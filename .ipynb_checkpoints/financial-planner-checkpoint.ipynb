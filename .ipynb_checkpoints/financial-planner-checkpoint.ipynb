{
 "cells": [
  {
   "cell_type": "markdown",
   "metadata": {},
   "source": [
    "# Unit 5 - Financial Planning"
   ]
  },
  {
   "cell_type": "code",
   "execution_count": 1,
   "metadata": {},
   "outputs": [],
   "source": [
    "# Install python environment variable package by running the command \"pip install python-dotenv\" at the terminal\n",
    "# Install Yahoo Finance by running the command \"pip install yfinance\" at the terminal\n",
    "# Install Alpaca Trade API package by running the command \"pip install alpaca-trade-api\" at the terminal\n",
    "# Add the enivornment file at the same directory\n",
    "\n",
    "# Initial imports\n",
    "import os\n",
    "import requests\n",
    "import json\n",
    "import pandas as pd\n",
    "from dotenv import load_dotenv\n",
    "import yfinance as yahooFinance\n",
    "import datetime\n",
    "import alpaca_trade_api as tradeapi\n",
    "from MCForecastTools import MCSimulation\n",
    "\n",
    "%matplotlib inline"
   ]
  },
  {
   "cell_type": "code",
   "execution_count": 2,
   "metadata": {},
   "outputs": [
    {
     "data": {
      "text/plain": [
       "True"
      ]
     },
     "execution_count": 2,
     "metadata": {},
     "output_type": "execute_result"
    }
   ],
   "source": [
    "# Load .env enviroment variables\n",
    "load_dotenv(r\"C:\\Users\\benis\\Documents\\Beni\\UoT\\HW\\Unit5\\FinTech_BC_Unit5_HW\\financial_planning-homework\\hw-ut.env\")"
   ]
  },
  {
   "cell_type": "markdown",
   "metadata": {},
   "source": [
    "## Part 1 - Personal Finance Planner"
   ]
  },
  {
   "cell_type": "markdown",
   "metadata": {},
   "source": [
    "### Collect Crypto Prices Using the `requests` Library"
   ]
  },
  {
   "cell_type": "code",
   "execution_count": 3,
   "metadata": {},
   "outputs": [],
   "source": [
    "# Set current amount of crypto assets\n",
    "my_btc = 1.2\n",
    "my_eth = 5.3"
   ]
  },
  {
   "cell_type": "code",
   "execution_count": 4,
   "metadata": {},
   "outputs": [],
   "source": [
    "# Crypto API URLs\n",
    "btc_url = \"https://api.alternative.me/v2/ticker/Bitcoin/?convert=CAD\"\n",
    "eth_url = \"https://api.alternative.me/v2/ticker/Ethereum/?convert=CAD\""
   ]
  },
  {
   "cell_type": "code",
   "execution_count": 5,
   "metadata": {},
   "outputs": [],
   "source": [
    "# Execute `GET` request with url\n",
    "response_btc_data = requests.get(btc_url)\n",
    "response_eth_data = requests.get(eth_url)"
   ]
  },
  {
   "cell_type": "code",
   "execution_count": 6,
   "metadata": {},
   "outputs": [
    {
     "name": "stdout",
     "output_type": "stream",
     "text": [
      "BTC data \n",
      "{\n",
      "    \"data\": {\n",
      "        \"1\": {\n",
      "            \"id\": 1,\n",
      "            \"name\": \"Bitcoin\",\n",
      "            \"symbol\": \"BTC\",\n",
      "            \"website_slug\": \"bitcoin\",\n",
      "            \"rank\": 1,\n",
      "            \"circulating_supply\": 19236756,\n",
      "            \"total_supply\": 19236756,\n",
      "            \"max_supply\": 21000000,\n",
      "            \"quotes\": {\n",
      "                \"USD\": {\n",
      "                    \"price\": 16738.57,\n",
      "                    \"volume_24h\": 12962666197,\n",
      "                    \"market_cap\": 321961353171,\n",
      "                    \"percentage_change_1h\": 0.0773312574304681,\n",
      "                    \"percentage_change_24h\": 0.375994027401771,\n",
      "                    \"percentage_change_7d\": -2.25862880540087,\n",
      "                    \"percent_change_1h\": 0.0773312574304681,\n",
      "                    \"percent_change_24h\": 0.375994027401771,\n",
      "                    \"percent_change_7d\": -2.25862880540087\n",
      "                },\n",
      "                \"CAD\": {\n",
      "                    \"price\": 22739.347345,\n",
      "                    \"volume_24h\": 17609782028.6245,\n",
      "                    \"market_cap\": 437384498282.804,\n",
      "                    \"percent_change_1h\": 0.0773312574304681,\n",
      "                    \"percent_change_24h\": 0.375994027401771,\n",
      "                    \"percent_change_7d\": -2.25862880540087\n",
      "                }\n",
      "            },\n",
      "            \"last_updated\": 1671334765\n",
      "        }\n",
      "    },\n",
      "    \"metadata\": {\n",
      "        \"timestamp\": 1671334765,\n",
      "        \"num_cryptocurrencies\": 3119,\n",
      "        \"error\": null\n",
      "    }\n",
      "}\n",
      "\n",
      "\n",
      "ETH data \n",
      "{\n",
      "    \"data\": {\n",
      "        \"1027\": {\n",
      "            \"id\": 1027,\n",
      "            \"name\": \"Ethereum\",\n",
      "            \"symbol\": \"ETH\",\n",
      "            \"website_slug\": \"ethereum\",\n",
      "            \"rank\": 2,\n",
      "            \"circulating_supply\": 120521725,\n",
      "            \"total_supply\": 120521725,\n",
      "            \"max_supply\": 120521725,\n",
      "            \"quotes\": {\n",
      "                \"USD\": {\n",
      "                    \"price\": 1186.45,\n",
      "                    \"volume_24h\": 4189939563,\n",
      "                    \"market_cap\": 142992689867,\n",
      "                    \"percentage_change_1h\": 0.0276396894370274,\n",
      "                    \"percentage_change_24h\": 0.993802335493478,\n",
      "                    \"percentage_change_7d\": -6.19396339206882,\n",
      "                    \"percent_change_1h\": 0.0276396894370274,\n",
      "                    \"percent_change_24h\": 0.993802335493478,\n",
      "                    \"percent_change_7d\": -6.19396339206882\n",
      "                },\n",
      "                \"CAD\": {\n",
      "                    \"price\": 1611.792325,\n",
      "                    \"volume_24h\": 5692032896.3355,\n",
      "                    \"market_cap\": 194255569184.32,\n",
      "                    \"percent_change_1h\": 0.0276396894370274,\n",
      "                    \"percent_change_24h\": 0.993802335493478,\n",
      "                    \"percent_change_7d\": -6.19396339206882\n",
      "                }\n",
      "            },\n",
      "            \"last_updated\": 1671334764\n",
      "        }\n",
      "    },\n",
      "    \"metadata\": {\n",
      "        \"timestamp\": 1671334764,\n",
      "        \"num_cryptocurrencies\": 3119,\n",
      "        \"error\": null\n",
      "    }\n",
      "}\n"
     ]
    }
   ],
   "source": [
    "# Format data as JSON\n",
    "btc_data = response_btc_data.json()\n",
    "eth_data = response_eth_data.json()\n",
    "\n",
    "# Use json.dumps with argument indent=4 to format data\n",
    "print(\"BTC data \\n\"+json.dumps(btc_data, indent=4)+\"\\n\\n\")\n",
    "print(\"ETH data \\n\"+json.dumps(eth_data, indent=4))"
   ]
  },
  {
   "cell_type": "code",
   "execution_count": 7,
   "metadata": {},
   "outputs": [
    {
     "name": "stdout",
     "output_type": "stream",
     "text": [
      "The current value of your 1.2 BTC is $27287.22\n",
      "The current value of your 5.3 ETH is $8542.50\n"
     ]
    }
   ],
   "source": [
    "# Fetch current BTC price\n",
    "btc_price = btc_data['data']['1']['quotes']['CAD']['price']\n",
    "\n",
    "# Fetch current ETH price\n",
    "eth_price = eth_data['data']['1027']['quotes']['CAD']['price']\n",
    "\n",
    "# Compute current value of my crpto\n",
    "my_btc_value = my_btc * btc_price\n",
    "my_eth_value = my_eth * eth_price\n",
    "\n",
    "# Print current crypto wallet balance\n",
    "print(f\"The current value of your {my_btc} BTC is ${my_btc_value:0.2f}\")\n",
    "print(f\"The current value of your {my_eth} ETH is ${my_eth_value:0.2f}\")"
   ]
  },
  {
   "cell_type": "markdown",
   "metadata": {},
   "source": [
    "### Collect Investments Data Using Alpaca: `SPY` (stocks) and `AGG` (bonds)"
   ]
  },
  {
   "cell_type": "code",
   "execution_count": 8,
   "metadata": {},
   "outputs": [],
   "source": [
    "# Set current amount of shares\n",
    "my_agg = 200\n",
    "my_spy = 50"
   ]
  },
  {
   "cell_type": "markdown",
   "metadata": {},
   "source": [
    "NOTE:- \n",
    "Registration is Alpaca is not allowed for Canada as country of residence and taxation. So per the direction from Professor Sasanka Panda I have used Yahoo Finance data"
   ]
  },
  {
   "cell_type": "code",
   "execution_count": 9,
   "metadata": {},
   "outputs": [],
   "source": [
    "# Start date and End Date for a duration of 1 yr from 16th Dec 2021 till 15th Dec 2022\n",
    "start_date = datetime.datetime(2021, 12, 17)\n",
    "end_date = datetime.datetime(2022, 12, 17)"
   ]
  },
  {
   "cell_type": "code",
   "execution_count": 10,
   "metadata": {},
   "outputs": [
    {
     "name": "stdout",
     "output_type": "stream",
     "text": [
      "[*********************100%***********************]  1 of 1 completed\n",
      "[*********************100%***********************]  1 of 1 completed\n"
     ]
    }
   ],
   "source": [
    "# Download from Yahoo Finance and store the data into seperate DataFrame for the respective ticker SPY and AGG, for a period of 1 year\n",
    "SPY_df = yahooFinance.download(\"SPY\",start=start_date, end=end_date)\n",
    "AGG_df = yahooFinance.download(\"AGG\",start=start_date, end=end_date)"
   ]
  },
  {
   "cell_type": "code",
   "execution_count": 11,
   "metadata": {},
   "outputs": [
    {
     "data": {
      "text/html": [
       "<div>\n",
       "<style scoped>\n",
       "    .dataframe tbody tr th:only-of-type {\n",
       "        vertical-align: middle;\n",
       "    }\n",
       "\n",
       "    .dataframe tbody tr th {\n",
       "        vertical-align: top;\n",
       "    }\n",
       "\n",
       "    .dataframe thead th {\n",
       "        text-align: right;\n",
       "    }\n",
       "</style>\n",
       "<table border=\"1\" class=\"dataframe\">\n",
       "  <thead>\n",
       "    <tr style=\"text-align: right;\">\n",
       "      <th></th>\n",
       "      <th>Open</th>\n",
       "      <th>High</th>\n",
       "      <th>Low</th>\n",
       "      <th>Close</th>\n",
       "      <th>Adj Close</th>\n",
       "      <th>Volume</th>\n",
       "    </tr>\n",
       "    <tr>\n",
       "      <th>Date</th>\n",
       "      <th></th>\n",
       "      <th></th>\n",
       "      <th></th>\n",
       "      <th></th>\n",
       "      <th></th>\n",
       "      <th></th>\n",
       "    </tr>\n",
       "  </thead>\n",
       "  <tbody>\n",
       "    <tr>\n",
       "      <th>2021-12-17</th>\n",
       "      <td>461.549988</td>\n",
       "      <td>464.739990</td>\n",
       "      <td>458.059998</td>\n",
       "      <td>459.869995</td>\n",
       "      <td>452.528473</td>\n",
       "      <td>135511600</td>\n",
       "    </tr>\n",
       "    <tr>\n",
       "      <th>2021-12-20</th>\n",
       "      <td>454.480011</td>\n",
       "      <td>455.399994</td>\n",
       "      <td>451.140015</td>\n",
       "      <td>454.980011</td>\n",
       "      <td>447.716553</td>\n",
       "      <td>107134800</td>\n",
       "    </tr>\n",
       "    <tr>\n",
       "      <th>2021-12-21</th>\n",
       "      <td>458.609985</td>\n",
       "      <td>463.209991</td>\n",
       "      <td>456.309998</td>\n",
       "      <td>463.059998</td>\n",
       "      <td>455.667572</td>\n",
       "      <td>69806300</td>\n",
       "    </tr>\n",
       "    <tr>\n",
       "      <th>2021-12-22</th>\n",
       "      <td>462.790009</td>\n",
       "      <td>467.809998</td>\n",
       "      <td>462.579987</td>\n",
       "      <td>467.690002</td>\n",
       "      <td>460.223663</td>\n",
       "      <td>58890200</td>\n",
       "    </tr>\n",
       "    <tr>\n",
       "      <th>2021-12-23</th>\n",
       "      <td>468.750000</td>\n",
       "      <td>472.190002</td>\n",
       "      <td>468.640015</td>\n",
       "      <td>470.600006</td>\n",
       "      <td>463.087189</td>\n",
       "      <td>56439700</td>\n",
       "    </tr>\n",
       "    <tr>\n",
       "      <th>...</th>\n",
       "      <td>...</td>\n",
       "      <td>...</td>\n",
       "      <td>...</td>\n",
       "      <td>...</td>\n",
       "      <td>...</td>\n",
       "      <td>...</td>\n",
       "    </tr>\n",
       "    <tr>\n",
       "      <th>2022-12-12</th>\n",
       "      <td>394.109985</td>\n",
       "      <td>398.950012</td>\n",
       "      <td>393.410004</td>\n",
       "      <td>398.950012</td>\n",
       "      <td>397.126404</td>\n",
       "      <td>75405800</td>\n",
       "    </tr>\n",
       "    <tr>\n",
       "      <th>2022-12-13</th>\n",
       "      <td>410.220001</td>\n",
       "      <td>410.489990</td>\n",
       "      <td>399.070007</td>\n",
       "      <td>401.970001</td>\n",
       "      <td>400.132599</td>\n",
       "      <td>123782500</td>\n",
       "    </tr>\n",
       "    <tr>\n",
       "      <th>2022-12-14</th>\n",
       "      <td>401.609985</td>\n",
       "      <td>405.500000</td>\n",
       "      <td>396.309998</td>\n",
       "      <td>399.399994</td>\n",
       "      <td>397.574341</td>\n",
       "      <td>108111300</td>\n",
       "    </tr>\n",
       "    <tr>\n",
       "      <th>2022-12-15</th>\n",
       "      <td>394.299988</td>\n",
       "      <td>395.250000</td>\n",
       "      <td>387.890015</td>\n",
       "      <td>389.630005</td>\n",
       "      <td>387.848999</td>\n",
       "      <td>117705900</td>\n",
       "    </tr>\n",
       "    <tr>\n",
       "      <th>2022-12-16</th>\n",
       "      <td>385.179993</td>\n",
       "      <td>386.579987</td>\n",
       "      <td>381.040009</td>\n",
       "      <td>383.269989</td>\n",
       "      <td>383.269989</td>\n",
       "      <td>119764500</td>\n",
       "    </tr>\n",
       "  </tbody>\n",
       "</table>\n",
       "<p>252 rows × 6 columns</p>\n",
       "</div>"
      ],
      "text/plain": [
       "                  Open        High         Low       Close   Adj Close  \\\n",
       "Date                                                                     \n",
       "2021-12-17  461.549988  464.739990  458.059998  459.869995  452.528473   \n",
       "2021-12-20  454.480011  455.399994  451.140015  454.980011  447.716553   \n",
       "2021-12-21  458.609985  463.209991  456.309998  463.059998  455.667572   \n",
       "2021-12-22  462.790009  467.809998  462.579987  467.690002  460.223663   \n",
       "2021-12-23  468.750000  472.190002  468.640015  470.600006  463.087189   \n",
       "...                ...         ...         ...         ...         ...   \n",
       "2022-12-12  394.109985  398.950012  393.410004  398.950012  397.126404   \n",
       "2022-12-13  410.220001  410.489990  399.070007  401.970001  400.132599   \n",
       "2022-12-14  401.609985  405.500000  396.309998  399.399994  397.574341   \n",
       "2022-12-15  394.299988  395.250000  387.890015  389.630005  387.848999   \n",
       "2022-12-16  385.179993  386.579987  381.040009  383.269989  383.269989   \n",
       "\n",
       "               Volume  \n",
       "Date                   \n",
       "2021-12-17  135511600  \n",
       "2021-12-20  107134800  \n",
       "2021-12-21   69806300  \n",
       "2021-12-22   58890200  \n",
       "2021-12-23   56439700  \n",
       "...               ...  \n",
       "2022-12-12   75405800  \n",
       "2022-12-13  123782500  \n",
       "2022-12-14  108111300  \n",
       "2022-12-15  117705900  \n",
       "2022-12-16  119764500  \n",
       "\n",
       "[252 rows x 6 columns]"
      ]
     },
     "execution_count": 11,
     "metadata": {},
     "output_type": "execute_result"
    }
   ],
   "source": [
    "# Display few sample rows of the SPY DataFrame\n",
    "SPY_df"
   ]
  },
  {
   "cell_type": "code",
   "execution_count": 12,
   "metadata": {},
   "outputs": [
    {
     "data": {
      "text/html": [
       "<div>\n",
       "<style scoped>\n",
       "    .dataframe tbody tr th:only-of-type {\n",
       "        vertical-align: middle;\n",
       "    }\n",
       "\n",
       "    .dataframe tbody tr th {\n",
       "        vertical-align: top;\n",
       "    }\n",
       "\n",
       "    .dataframe thead th {\n",
       "        text-align: right;\n",
       "    }\n",
       "</style>\n",
       "<table border=\"1\" class=\"dataframe\">\n",
       "  <thead>\n",
       "    <tr style=\"text-align: right;\">\n",
       "      <th></th>\n",
       "      <th>Open</th>\n",
       "      <th>High</th>\n",
       "      <th>Low</th>\n",
       "      <th>Close</th>\n",
       "      <th>Adj Close</th>\n",
       "      <th>Volume</th>\n",
       "    </tr>\n",
       "    <tr>\n",
       "      <th>Date</th>\n",
       "      <th></th>\n",
       "      <th></th>\n",
       "      <th></th>\n",
       "      <th></th>\n",
       "      <th></th>\n",
       "      <th></th>\n",
       "    </tr>\n",
       "  </thead>\n",
       "  <tbody>\n",
       "    <tr>\n",
       "      <th>2021-12-17</th>\n",
       "      <td>114.550003</td>\n",
       "      <td>114.680000</td>\n",
       "      <td>114.470001</td>\n",
       "      <td>114.500000</td>\n",
       "      <td>111.916794</td>\n",
       "      <td>7428000</td>\n",
       "    </tr>\n",
       "    <tr>\n",
       "      <th>2021-12-20</th>\n",
       "      <td>114.570000</td>\n",
       "      <td>114.610001</td>\n",
       "      <td>114.320000</td>\n",
       "      <td>114.330002</td>\n",
       "      <td>111.750641</td>\n",
       "      <td>7382600</td>\n",
       "    </tr>\n",
       "    <tr>\n",
       "      <th>2021-12-21</th>\n",
       "      <td>114.070000</td>\n",
       "      <td>114.320000</td>\n",
       "      <td>113.970001</td>\n",
       "      <td>114.239998</td>\n",
       "      <td>111.662659</td>\n",
       "      <td>12970200</td>\n",
       "    </tr>\n",
       "    <tr>\n",
       "      <th>2021-12-22</th>\n",
       "      <td>114.330002</td>\n",
       "      <td>114.349998</td>\n",
       "      <td>114.169998</td>\n",
       "      <td>114.339996</td>\n",
       "      <td>111.760422</td>\n",
       "      <td>6171700</td>\n",
       "    </tr>\n",
       "    <tr>\n",
       "      <th>2021-12-23</th>\n",
       "      <td>114.290001</td>\n",
       "      <td>114.309998</td>\n",
       "      <td>114.070000</td>\n",
       "      <td>114.199997</td>\n",
       "      <td>111.623566</td>\n",
       "      <td>5506700</td>\n",
       "    </tr>\n",
       "  </tbody>\n",
       "</table>\n",
       "</div>"
      ],
      "text/plain": [
       "                  Open        High         Low       Close   Adj Close  \\\n",
       "Date                                                                     \n",
       "2021-12-17  114.550003  114.680000  114.470001  114.500000  111.916794   \n",
       "2021-12-20  114.570000  114.610001  114.320000  114.330002  111.750641   \n",
       "2021-12-21  114.070000  114.320000  113.970001  114.239998  111.662659   \n",
       "2021-12-22  114.330002  114.349998  114.169998  114.339996  111.760422   \n",
       "2021-12-23  114.290001  114.309998  114.070000  114.199997  111.623566   \n",
       "\n",
       "              Volume  \n",
       "Date                  \n",
       "2021-12-17   7428000  \n",
       "2021-12-20   7382600  \n",
       "2021-12-21  12970200  \n",
       "2021-12-22   6171700  \n",
       "2021-12-23   5506700  "
      ]
     },
     "execution_count": 12,
     "metadata": {},
     "output_type": "execute_result"
    }
   ],
   "source": [
    "# Display few sample rows of the AGG DataFrame\n",
    "AGG_df.head()"
   ]
  },
  {
   "cell_type": "code",
   "execution_count": 13,
   "metadata": {},
   "outputs": [],
   "source": [
    "# Rename the column headers of the respective Ticker Dataframes from Camelcasing to all small letter. \n",
    "SPY_df.rename(columns = {'Open':'open', 'High':'high', 'Low':'low', 'Close':'close', 'Adj Close':'adj close', 'Volume':'volume'}, inplace = True)\n",
    "AGG_df.rename(columns = {'Open':'open', 'High':'high', 'Low':'low', 'Close':'close', 'Adj Close':'adj close', 'Volume':'volume'}, inplace = True)"
   ]
  },
  {
   "cell_type": "code",
   "execution_count": 14,
   "metadata": {},
   "outputs": [
    {
     "data": {
      "text/html": [
       "<div>\n",
       "<style scoped>\n",
       "    .dataframe tbody tr th:only-of-type {\n",
       "        vertical-align: middle;\n",
       "    }\n",
       "\n",
       "    .dataframe tbody tr th {\n",
       "        vertical-align: top;\n",
       "    }\n",
       "\n",
       "    .dataframe thead tr th {\n",
       "        text-align: left;\n",
       "    }\n",
       "\n",
       "    .dataframe thead tr:last-of-type th {\n",
       "        text-align: right;\n",
       "    }\n",
       "</style>\n",
       "<table border=\"1\" class=\"dataframe\">\n",
       "  <thead>\n",
       "    <tr>\n",
       "      <th></th>\n",
       "      <th colspan=\"6\" halign=\"left\">AGG</th>\n",
       "      <th colspan=\"6\" halign=\"left\">SPY</th>\n",
       "    </tr>\n",
       "    <tr>\n",
       "      <th></th>\n",
       "      <th>open</th>\n",
       "      <th>high</th>\n",
       "      <th>low</th>\n",
       "      <th>close</th>\n",
       "      <th>adj close</th>\n",
       "      <th>volume</th>\n",
       "      <th>open</th>\n",
       "      <th>high</th>\n",
       "      <th>low</th>\n",
       "      <th>close</th>\n",
       "      <th>adj close</th>\n",
       "      <th>volume</th>\n",
       "    </tr>\n",
       "    <tr>\n",
       "      <th>Date</th>\n",
       "      <th></th>\n",
       "      <th></th>\n",
       "      <th></th>\n",
       "      <th></th>\n",
       "      <th></th>\n",
       "      <th></th>\n",
       "      <th></th>\n",
       "      <th></th>\n",
       "      <th></th>\n",
       "      <th></th>\n",
       "      <th></th>\n",
       "      <th></th>\n",
       "    </tr>\n",
       "  </thead>\n",
       "  <tbody>\n",
       "    <tr>\n",
       "      <th>2021-12-17</th>\n",
       "      <td>114.550003</td>\n",
       "      <td>114.680000</td>\n",
       "      <td>114.470001</td>\n",
       "      <td>114.500000</td>\n",
       "      <td>111.916794</td>\n",
       "      <td>7428000</td>\n",
       "      <td>461.549988</td>\n",
       "      <td>464.739990</td>\n",
       "      <td>458.059998</td>\n",
       "      <td>459.869995</td>\n",
       "      <td>452.528473</td>\n",
       "      <td>135511600</td>\n",
       "    </tr>\n",
       "    <tr>\n",
       "      <th>2021-12-20</th>\n",
       "      <td>114.570000</td>\n",
       "      <td>114.610001</td>\n",
       "      <td>114.320000</td>\n",
       "      <td>114.330002</td>\n",
       "      <td>111.750641</td>\n",
       "      <td>7382600</td>\n",
       "      <td>454.480011</td>\n",
       "      <td>455.399994</td>\n",
       "      <td>451.140015</td>\n",
       "      <td>454.980011</td>\n",
       "      <td>447.716553</td>\n",
       "      <td>107134800</td>\n",
       "    </tr>\n",
       "    <tr>\n",
       "      <th>2021-12-21</th>\n",
       "      <td>114.070000</td>\n",
       "      <td>114.320000</td>\n",
       "      <td>113.970001</td>\n",
       "      <td>114.239998</td>\n",
       "      <td>111.662659</td>\n",
       "      <td>12970200</td>\n",
       "      <td>458.609985</td>\n",
       "      <td>463.209991</td>\n",
       "      <td>456.309998</td>\n",
       "      <td>463.059998</td>\n",
       "      <td>455.667572</td>\n",
       "      <td>69806300</td>\n",
       "    </tr>\n",
       "    <tr>\n",
       "      <th>2021-12-22</th>\n",
       "      <td>114.330002</td>\n",
       "      <td>114.349998</td>\n",
       "      <td>114.169998</td>\n",
       "      <td>114.339996</td>\n",
       "      <td>111.760422</td>\n",
       "      <td>6171700</td>\n",
       "      <td>462.790009</td>\n",
       "      <td>467.809998</td>\n",
       "      <td>462.579987</td>\n",
       "      <td>467.690002</td>\n",
       "      <td>460.223663</td>\n",
       "      <td>58890200</td>\n",
       "    </tr>\n",
       "    <tr>\n",
       "      <th>2021-12-23</th>\n",
       "      <td>114.290001</td>\n",
       "      <td>114.309998</td>\n",
       "      <td>114.070000</td>\n",
       "      <td>114.199997</td>\n",
       "      <td>111.623566</td>\n",
       "      <td>5506700</td>\n",
       "      <td>468.750000</td>\n",
       "      <td>472.190002</td>\n",
       "      <td>468.640015</td>\n",
       "      <td>470.600006</td>\n",
       "      <td>463.087189</td>\n",
       "      <td>56439700</td>\n",
       "    </tr>\n",
       "    <tr>\n",
       "      <th>...</th>\n",
       "      <td>...</td>\n",
       "      <td>...</td>\n",
       "      <td>...</td>\n",
       "      <td>...</td>\n",
       "      <td>...</td>\n",
       "      <td>...</td>\n",
       "      <td>...</td>\n",
       "      <td>...</td>\n",
       "      <td>...</td>\n",
       "      <td>...</td>\n",
       "      <td>...</td>\n",
       "      <td>...</td>\n",
       "    </tr>\n",
       "    <tr>\n",
       "      <th>2022-12-12</th>\n",
       "      <td>99.190002</td>\n",
       "      <td>99.239998</td>\n",
       "      <td>98.629997</td>\n",
       "      <td>98.809998</td>\n",
       "      <td>98.809998</td>\n",
       "      <td>10384200</td>\n",
       "      <td>394.109985</td>\n",
       "      <td>398.950012</td>\n",
       "      <td>393.410004</td>\n",
       "      <td>398.950012</td>\n",
       "      <td>397.126404</td>\n",
       "      <td>75405800</td>\n",
       "    </tr>\n",
       "    <tr>\n",
       "      <th>2022-12-13</th>\n",
       "      <td>100.180000</td>\n",
       "      <td>100.180000</td>\n",
       "      <td>99.400002</td>\n",
       "      <td>99.470001</td>\n",
       "      <td>99.470001</td>\n",
       "      <td>9120600</td>\n",
       "      <td>410.220001</td>\n",
       "      <td>410.489990</td>\n",
       "      <td>399.070007</td>\n",
       "      <td>401.970001</td>\n",
       "      <td>400.132599</td>\n",
       "      <td>123782500</td>\n",
       "    </tr>\n",
       "    <tr>\n",
       "      <th>2022-12-14</th>\n",
       "      <td>99.519997</td>\n",
       "      <td>99.790001</td>\n",
       "      <td>99.169998</td>\n",
       "      <td>99.690002</td>\n",
       "      <td>99.690002</td>\n",
       "      <td>10624000</td>\n",
       "      <td>401.609985</td>\n",
       "      <td>405.500000</td>\n",
       "      <td>396.309998</td>\n",
       "      <td>399.399994</td>\n",
       "      <td>397.574341</td>\n",
       "      <td>108111300</td>\n",
       "    </tr>\n",
       "    <tr>\n",
       "      <th>2022-12-15</th>\n",
       "      <td>99.570000</td>\n",
       "      <td>99.699997</td>\n",
       "      <td>99.370003</td>\n",
       "      <td>99.610001</td>\n",
       "      <td>99.610001</td>\n",
       "      <td>9423900</td>\n",
       "      <td>394.299988</td>\n",
       "      <td>395.250000</td>\n",
       "      <td>387.890015</td>\n",
       "      <td>389.630005</td>\n",
       "      <td>387.848999</td>\n",
       "      <td>117705900</td>\n",
       "    </tr>\n",
       "    <tr>\n",
       "      <th>2022-12-16</th>\n",
       "      <td>98.959999</td>\n",
       "      <td>99.519997</td>\n",
       "      <td>98.940002</td>\n",
       "      <td>99.349998</td>\n",
       "      <td>99.349998</td>\n",
       "      <td>7546100</td>\n",
       "      <td>385.179993</td>\n",
       "      <td>386.579987</td>\n",
       "      <td>381.040009</td>\n",
       "      <td>383.269989</td>\n",
       "      <td>383.269989</td>\n",
       "      <td>119764500</td>\n",
       "    </tr>\n",
       "  </tbody>\n",
       "</table>\n",
       "<p>252 rows × 12 columns</p>\n",
       "</div>"
      ],
      "text/plain": [
       "                   AGG                                                  \\\n",
       "                  open        high         low       close   adj close   \n",
       "Date                                                                     \n",
       "2021-12-17  114.550003  114.680000  114.470001  114.500000  111.916794   \n",
       "2021-12-20  114.570000  114.610001  114.320000  114.330002  111.750641   \n",
       "2021-12-21  114.070000  114.320000  113.970001  114.239998  111.662659   \n",
       "2021-12-22  114.330002  114.349998  114.169998  114.339996  111.760422   \n",
       "2021-12-23  114.290001  114.309998  114.070000  114.199997  111.623566   \n",
       "...                ...         ...         ...         ...         ...   \n",
       "2022-12-12   99.190002   99.239998   98.629997   98.809998   98.809998   \n",
       "2022-12-13  100.180000  100.180000   99.400002   99.470001   99.470001   \n",
       "2022-12-14   99.519997   99.790001   99.169998   99.690002   99.690002   \n",
       "2022-12-15   99.570000   99.699997   99.370003   99.610001   99.610001   \n",
       "2022-12-16   98.959999   99.519997   98.940002   99.349998   99.349998   \n",
       "\n",
       "                             SPY                                      \\\n",
       "              volume        open        high         low       close   \n",
       "Date                                                                   \n",
       "2021-12-17   7428000  461.549988  464.739990  458.059998  459.869995   \n",
       "2021-12-20   7382600  454.480011  455.399994  451.140015  454.980011   \n",
       "2021-12-21  12970200  458.609985  463.209991  456.309998  463.059998   \n",
       "2021-12-22   6171700  462.790009  467.809998  462.579987  467.690002   \n",
       "2021-12-23   5506700  468.750000  472.190002  468.640015  470.600006   \n",
       "...              ...         ...         ...         ...         ...   \n",
       "2022-12-12  10384200  394.109985  398.950012  393.410004  398.950012   \n",
       "2022-12-13   9120600  410.220001  410.489990  399.070007  401.970001   \n",
       "2022-12-14  10624000  401.609985  405.500000  396.309998  399.399994   \n",
       "2022-12-15   9423900  394.299988  395.250000  387.890015  389.630005   \n",
       "2022-12-16   7546100  385.179993  386.579987  381.040009  383.269989   \n",
       "\n",
       "                                   \n",
       "             adj close     volume  \n",
       "Date                               \n",
       "2021-12-17  452.528473  135511600  \n",
       "2021-12-20  447.716553  107134800  \n",
       "2021-12-21  455.667572   69806300  \n",
       "2021-12-22  460.223663   58890200  \n",
       "2021-12-23  463.087189   56439700  \n",
       "...                ...        ...  \n",
       "2022-12-12  397.126404   75405800  \n",
       "2022-12-13  400.132599  123782500  \n",
       "2022-12-14  397.574341  108111300  \n",
       "2022-12-15  387.848999  117705900  \n",
       "2022-12-16  383.269989  119764500  \n",
       "\n",
       "[252 rows x 12 columns]"
      ]
     },
     "execution_count": 14,
     "metadata": {},
     "output_type": "execute_result"
    }
   ],
   "source": [
    "# Concatenate the ticker DataFrames\n",
    "df_ticker = pd.concat([AGG_df, SPY_df ],axis=1, keys=[\"AGG\", \"SPY\"])\n",
    "# Preview DataFrame\n",
    "df_ticker"
   ]
  },
  {
   "cell_type": "markdown",
   "metadata": {},
   "source": [
    "### Create a new DataFrame and store the closing prices of each stock"
   ]
  },
  {
   "cell_type": "code",
   "execution_count": 15,
   "metadata": {},
   "outputs": [],
   "source": [
    "# Create and empty DataFrame for closing prices\n",
    "df_closing_prices = pd.DataFrame()"
   ]
  },
  {
   "cell_type": "code",
   "execution_count": 16,
   "metadata": {},
   "outputs": [],
   "source": [
    "# Pick AGG and SPY close prices into the new Data Frame\n",
    "df_closing_prices[\"AGG\"] = df_ticker[\"AGG\"][\"close\"]\n",
    "df_closing_prices[\"SPY\"] = df_ticker[\"SPY\"][\"close\"]"
   ]
  },
  {
   "cell_type": "code",
   "execution_count": 17,
   "metadata": {},
   "outputs": [
    {
     "data": {
      "text/html": [
       "<div>\n",
       "<style scoped>\n",
       "    .dataframe tbody tr th:only-of-type {\n",
       "        vertical-align: middle;\n",
       "    }\n",
       "\n",
       "    .dataframe tbody tr th {\n",
       "        vertical-align: top;\n",
       "    }\n",
       "\n",
       "    .dataframe thead th {\n",
       "        text-align: right;\n",
       "    }\n",
       "</style>\n",
       "<table border=\"1\" class=\"dataframe\">\n",
       "  <thead>\n",
       "    <tr style=\"text-align: right;\">\n",
       "      <th></th>\n",
       "      <th>AGG</th>\n",
       "      <th>SPY</th>\n",
       "    </tr>\n",
       "    <tr>\n",
       "      <th>Date</th>\n",
       "      <th></th>\n",
       "      <th></th>\n",
       "    </tr>\n",
       "  </thead>\n",
       "  <tbody>\n",
       "    <tr>\n",
       "      <th>2021-12-17</th>\n",
       "      <td>114.500000</td>\n",
       "      <td>459.869995</td>\n",
       "    </tr>\n",
       "    <tr>\n",
       "      <th>2021-12-20</th>\n",
       "      <td>114.330002</td>\n",
       "      <td>454.980011</td>\n",
       "    </tr>\n",
       "    <tr>\n",
       "      <th>2021-12-21</th>\n",
       "      <td>114.239998</td>\n",
       "      <td>463.059998</td>\n",
       "    </tr>\n",
       "    <tr>\n",
       "      <th>2021-12-22</th>\n",
       "      <td>114.339996</td>\n",
       "      <td>467.690002</td>\n",
       "    </tr>\n",
       "    <tr>\n",
       "      <th>2021-12-23</th>\n",
       "      <td>114.199997</td>\n",
       "      <td>470.600006</td>\n",
       "    </tr>\n",
       "    <tr>\n",
       "      <th>...</th>\n",
       "      <td>...</td>\n",
       "      <td>...</td>\n",
       "    </tr>\n",
       "    <tr>\n",
       "      <th>2022-12-12</th>\n",
       "      <td>98.809998</td>\n",
       "      <td>398.950012</td>\n",
       "    </tr>\n",
       "    <tr>\n",
       "      <th>2022-12-13</th>\n",
       "      <td>99.470001</td>\n",
       "      <td>401.970001</td>\n",
       "    </tr>\n",
       "    <tr>\n",
       "      <th>2022-12-14</th>\n",
       "      <td>99.690002</td>\n",
       "      <td>399.399994</td>\n",
       "    </tr>\n",
       "    <tr>\n",
       "      <th>2022-12-15</th>\n",
       "      <td>99.610001</td>\n",
       "      <td>389.630005</td>\n",
       "    </tr>\n",
       "    <tr>\n",
       "      <th>2022-12-16</th>\n",
       "      <td>99.349998</td>\n",
       "      <td>383.269989</td>\n",
       "    </tr>\n",
       "  </tbody>\n",
       "</table>\n",
       "<p>252 rows × 2 columns</p>\n",
       "</div>"
      ],
      "text/plain": [
       "                   AGG         SPY\n",
       "Date                              \n",
       "2021-12-17  114.500000  459.869995\n",
       "2021-12-20  114.330002  454.980011\n",
       "2021-12-21  114.239998  463.059998\n",
       "2021-12-22  114.339996  467.690002\n",
       "2021-12-23  114.199997  470.600006\n",
       "...                ...         ...\n",
       "2022-12-12   98.809998  398.950012\n",
       "2022-12-13   99.470001  401.970001\n",
       "2022-12-14   99.690002  399.399994\n",
       "2022-12-15   99.610001  389.630005\n",
       "2022-12-16   99.349998  383.269989\n",
       "\n",
       "[252 rows x 2 columns]"
      ]
     },
     "execution_count": 17,
     "metadata": {},
     "output_type": "execute_result"
    }
   ],
   "source": [
    "# Display few sample rows of the DataFrame\n",
    "df_closing_prices"
   ]
  },
  {
   "cell_type": "markdown",
   "metadata": {},
   "source": [
    "### Compute the value in dollars of the current amount of shares and print the results"
   ]
  },
  {
   "cell_type": "code",
   "execution_count": 18,
   "metadata": {},
   "outputs": [
    {
     "name": "stdout",
     "output_type": "stream",
     "text": [
      "Current AGG closing price: $99.35\n",
      "Current SPY closing price: $383.27\n"
     ]
    }
   ],
   "source": [
    "# Pick AGG current day close price\n",
    "agg_close_price = df_closing_prices[\"AGG\"][-1]\n",
    "# Pick SPY current day close price\n",
    "spy_close_price = df_closing_prices[\"SPY\"][-1]\n",
    "# Print AGG and SPY close prices\n",
    "print(f\"Current AGG closing price: ${agg_close_price:0.2f}\")\n",
    "print(f\"Current SPY closing price: ${spy_close_price:0.2f}\")"
   ]
  },
  {
   "cell_type": "code",
   "execution_count": 19,
   "metadata": {},
   "outputs": [
    {
     "name": "stdout",
     "output_type": "stream",
     "text": [
      "The current value of your 50 SPY shares is $19163.50\n",
      "The current value of your 200 AGG shares is $19870.00\n"
     ]
    }
   ],
   "source": [
    "# Compute the current value of shares\n",
    "my_spy_value = my_spy * spy_close_price\n",
    "my_agg_value = my_agg * agg_close_price\n",
    "\n",
    "# Print current value of shares\n",
    "print(f\"The current value of your {my_spy} SPY shares is ${my_spy_value:0.2f}\")\n",
    "print(f\"The current value of your {my_agg} AGG shares is ${my_agg_value:0.2f}\")"
   ]
  },
  {
   "cell_type": "markdown",
   "metadata": {},
   "source": [
    "### Savings Health Analysis"
   ]
  },
  {
   "cell_type": "code",
   "execution_count": 20,
   "metadata": {},
   "outputs": [
    {
     "data": {
      "text/html": [
       "<div>\n",
       "<style scoped>\n",
       "    .dataframe tbody tr th:only-of-type {\n",
       "        vertical-align: middle;\n",
       "    }\n",
       "\n",
       "    .dataframe tbody tr th {\n",
       "        vertical-align: top;\n",
       "    }\n",
       "\n",
       "    .dataframe thead th {\n",
       "        text-align: right;\n",
       "    }\n",
       "</style>\n",
       "<table border=\"1\" class=\"dataframe\">\n",
       "  <thead>\n",
       "    <tr style=\"text-align: right;\">\n",
       "      <th></th>\n",
       "      <th>amount</th>\n",
       "    </tr>\n",
       "  </thead>\n",
       "  <tbody>\n",
       "    <tr>\n",
       "      <th>crypto</th>\n",
       "      <td>54574.433628</td>\n",
       "    </tr>\n",
       "    <tr>\n",
       "      <th>shares</th>\n",
       "      <td>39033.499146</td>\n",
       "    </tr>\n",
       "  </tbody>\n",
       "</table>\n",
       "</div>"
      ],
      "text/plain": [
       "              amount\n",
       "crypto  54574.433628\n",
       "shares  39033.499146"
      ]
     },
     "metadata": {},
     "output_type": "display_data"
    }
   ],
   "source": [
    "# Set monthly household income\n",
    "monthly_income = 12000\n",
    "\n",
    "# Consolidate financial assets data\n",
    "crypto_savings = my_btc_value + my_btc_value\n",
    "shares_savings = my_spy_value + my_agg_value\n",
    "\n",
    "# Create savings DataFrame\n",
    "# Set the investment types\n",
    "inv_type = [\"crypto\", \"shares\"]\n",
    "\n",
    "# Set current amount of investment\n",
    "inv_savings = {\n",
    "    \"amount\" : [crypto_savings, shares_savings]\n",
    "}\n",
    "# Create the shares DataFrame with `tickers` as index\n",
    "df_savings = pd.DataFrame(inv_savings, index=inv_type)\n",
    "\n",
    "# Display savings DataFrame\n",
    "display(df_savings)"
   ]
  },
  {
   "cell_type": "code",
   "execution_count": 21,
   "metadata": {},
   "outputs": [
    {
     "data": {
      "text/plain": [
       "<AxesSubplot:title={'center':'Composition of Personal Savings'}, ylabel='amount'>"
      ]
     },
     "execution_count": 21,
     "metadata": {},
     "output_type": "execute_result"
    },
    {
     "data": {
      "image/png": "[encoded data removed]",
      "text/plain": [
       "<Figure size 640x480 with 1 Axes>"
      ]
     },
     "metadata": {},
     "output_type": "display_data"
    }
   ],
   "source": [
    "# Plot savings pie chart\n",
    "df_savings.plot.pie(y=\"amount\", title=\"Composition of Personal Savings\")"
   ]
  },
  {
   "cell_type": "code",
   "execution_count": 22,
   "metadata": {},
   "outputs": [
    {
     "name": "stdout",
     "output_type": "stream",
     "text": [
      "Congratulations! You have enough money in your emergency fund.\n"
     ]
    }
   ],
   "source": [
    "# Set ideal emergency fund\n",
    "emergency_fund = monthly_income * 3\n",
    "\n",
    "# Calculate total amount of savings\n",
    "total_savings = crypto_savings + shares_savings\n",
    "\n",
    "# Validate saving health\n",
    "if total_savings > emergency_fund :\n",
    "    print(f\"Congratulations! You have enough money in your emergency fund.\")\n",
    "elif total_savings == emergency_fund :\n",
    "    print(f\"Congratulations! You have reached your financial goal of your emergency fund.\")\n",
    "elif total_savings < emergency_fund :\n",
    "    diff = emergency_fund - total_savings\n",
    "    print(f\"You are ${diff:0.2f} away from reaching your financial goal.\")"
   ]
  },
  {
   "cell_type": "markdown",
   "metadata": {},
   "source": [
    "## Part 2 - Retirement Planning\n",
    "\n",
    "### Monte Carlo Simulation"
   ]
  },
  {
   "cell_type": "code",
   "execution_count": 23,
   "metadata": {},
   "outputs": [],
   "source": [
    "# Set start and end dates of five years back from today.\n",
    "# Sample results may vary from the solution based on the time frame chosen\n",
    "start_date = pd.Timestamp('2016-05-01', tz='America/New_York').isoformat()\n",
    "end_date = pd.Timestamp('2021-05-01', tz='America/New_York').isoformat()"
   ]
  },
  {
   "cell_type": "code",
   "execution_count": 24,
   "metadata": {},
   "outputs": [
    {
     "ename": "NameError",
     "evalue": "name 'df_stock_data' is not defined",
     "output_type": "error",
     "traceback": [
      "\u001b[1;31m---------------------------------------------------------------------------\u001b[0m",
      "\u001b[1;31mNameError\u001b[0m                                 Traceback (most recent call last)",
      "\u001b[1;32m~\\AppData\\Local\\Temp\\ipykernel_29128\\4148180723.py\u001b[0m in \u001b[0;36m<module>\u001b[1;34m\u001b[0m\n\u001b[0;32m     11\u001b[0m \u001b[1;33m\u001b[0m\u001b[0m\n\u001b[0;32m     12\u001b[0m \u001b[1;31m# Display sample data\u001b[0m\u001b[1;33m\u001b[0m\u001b[1;33m\u001b[0m\u001b[1;33m\u001b[0m\u001b[0m\n\u001b[1;32m---> 13\u001b[1;33m \u001b[0mdf_stock_data\u001b[0m\u001b[1;33m.\u001b[0m\u001b[0mhead\u001b[0m\u001b[1;33m(\u001b[0m\u001b[1;33m)\u001b[0m\u001b[1;33m\u001b[0m\u001b[1;33m\u001b[0m\u001b[0m\n\u001b[0m",
      "\u001b[1;31mNameError\u001b[0m: name 'df_stock_data' is not defined"
     ]
    }
   ],
   "source": [
    "# Get 5 years' worth of historical data for SPY and AGG\n",
    "# YOUR CODE HERE!\n",
    "\n",
    "# Reorganize the DataFrame\n",
    "# Separate ticker data\n",
    "# YOUR CODE HERE!\n",
    "\n",
    "\n",
    "# Concatenate the ticker DataFrames\n",
    "# YOUR CODE HERE!\n",
    "\n",
    "# Display sample data\n",
    "df_stock_data.head()"
   ]
  },
  {
   "cell_type": "code",
   "execution_count": null,
   "metadata": {},
   "outputs": [],
   "source": [
    "# Configuring a Monte Carlo simulation to forecast 30 years cumulative returns\n",
    "# YOUR CODE HERE!"
   ]
  },
  {
   "cell_type": "code",
   "execution_count": null,
   "metadata": {},
   "outputs": [],
   "source": [
    "# Printing the simulation input data\n",
    "# YOUR CODE HERE!"
   ]
  },
  {
   "cell_type": "code",
   "execution_count": null,
   "metadata": {},
   "outputs": [],
   "source": [
    "# Running a Monte Carlo simulation to forecast 30 years cumulative returns\n",
    "# YOUR CODE HERE!"
   ]
  },
  {
   "cell_type": "code",
   "execution_count": null,
   "metadata": {},
   "outputs": [],
   "source": [
    "# Plot simulation outcomes\n",
    "# YOUR CODE HERE!"
   ]
  },
  {
   "cell_type": "code",
   "execution_count": null,
   "metadata": {},
   "outputs": [],
   "source": [
    "# Plot probability distribution and confidence intervals\n",
    "# YOUR CODE HERE!"
   ]
  },
  {
   "cell_type": "markdown",
   "metadata": {},
   "source": [
    "### Retirement Analysis"
   ]
  },
  {
   "cell_type": "code",
   "execution_count": null,
   "metadata": {},
   "outputs": [],
   "source": [
    "# Fetch summary statistics from the Monte Carlo simulation results\n",
    "# YOUR CODE HERE!\n",
    "\n",
    "# Print summary statistics\n",
    "# YOUR CODE HERE!"
   ]
  },
  {
   "cell_type": "markdown",
   "metadata": {},
   "source": [
    "### Calculate the expected portfolio return at the `95%` lower and upper confidence intervals based on a `$20,000` initial investment."
   ]
  },
  {
   "cell_type": "code",
   "execution_count": null,
   "metadata": {},
   "outputs": [],
   "source": [
    "# Set initial investment\n",
    "initial_investment = 20000\n",
    "\n",
    "# Use the lower and upper `95%` confidence intervals to calculate the range of the possible outcomes of our $20,000\n",
    "# YOUR CODE HERE!\n",
    "\n",
    "# Print results\n",
    "print(f\"There is a 95% chance that an initial investment of ${initial_investment} in the portfolio\"\n",
    "      f\" over the next 30 years will end within in the range of\"\n",
    "      f\" ${ci_lower} and ${ci_upper}\")"
   ]
  },
  {
   "cell_type": "markdown",
   "metadata": {},
   "source": [
    "### Calculate the expected portfolio return at the `95%` lower and upper confidence intervals based on a `50%` increase in the initial investment."
   ]
  },
  {
   "cell_type": "code",
   "execution_count": null,
   "metadata": {},
   "outputs": [],
   "source": [
    "# Set initial investment\n",
    "initial_investment = 20000 * 1.5\n",
    "\n",
    "# Use the lower and upper `95%` confidence intervals to calculate the range of the possible outcomes of our $30,000\n",
    "# YOUR CODE HERE!\n",
    "\n",
    "# Print results\n",
    "print(f\"There is a 95% chance that an initial investment of ${initial_investment} in the portfolio\"\n",
    "      f\" over the next 30 years will end within in the range of\"\n",
    "      f\" ${ci_lower} and ${ci_upper}\")"
   ]
  },
  {
   "cell_type": "markdown",
   "metadata": {},
   "source": [
    "## Optional Challenge - Early Retirement\n",
    "\n",
    "\n",
    "### Five Years Retirement Option"
   ]
  },
  {
   "cell_type": "code",
   "execution_count": null,
   "metadata": {},
   "outputs": [],
   "source": [
    "# Configuring a Monte Carlo simulation to forecast 5 years cumulative returns\n",
    "# YOUR CODE HERE!"
   ]
  },
  {
   "cell_type": "code",
   "execution_count": null,
   "metadata": {},
   "outputs": [],
   "source": [
    "# Running a Monte Carlo simulation to forecast 5 years cumulative returns\n",
    "# YOUR CODE HERE!"
   ]
  },
  {
   "cell_type": "code",
   "execution_count": null,
   "metadata": {},
   "outputs": [],
   "source": [
    "# Plot simulation outcomes\n",
    "# YOUR CODE HERE!"
   ]
  },
  {
   "cell_type": "code",
   "execution_count": null,
   "metadata": {},
   "outputs": [],
   "source": [
    "# Plot probability distribution and confidence intervals\n",
    "# YOUR CODE HERE!"
   ]
  },
  {
   "cell_type": "code",
   "execution_count": null,
   "metadata": {},
   "outputs": [],
   "source": [
    "# Fetch summary statistics from the Monte Carlo simulation results\n",
    "# YOUR CODE HERE!\n",
    "\n",
    "# Print summary statistics\n",
    "# YOUR CODE HERE!"
   ]
  },
  {
   "cell_type": "code",
   "execution_count": null,
   "metadata": {},
   "outputs": [],
   "source": [
    "# Set initial investment\n",
    "# YOUR CODE HERE!\n",
    "\n",
    "# Use the lower and upper `95%` confidence intervals to calculate the range of the possible outcomes of our $60,000\n",
    "# YOUR CODE HERE!\n",
    "\n",
    "# Print results\n",
    "print(f\"There is a 95% chance that an initial investment of ${initial_investment} in the portfolio\"\n",
    "      f\" over the next 5 years will end within in the range of\"\n",
    "      f\" ${ci_lower_five} and ${ci_upper_five}\")"
   ]
  },
  {
   "cell_type": "markdown",
   "metadata": {},
   "source": [
    "### Ten Years Retirement Option"
   ]
  },
  {
   "cell_type": "code",
   "execution_count": null,
   "metadata": {},
   "outputs": [],
   "source": [
    "# Configuring a Monte Carlo simulation to forecast 10 years cumulative returns\n",
    "# YOUR CODE HERE!"
   ]
  },
  {
   "cell_type": "code",
   "execution_count": null,
   "metadata": {},
   "outputs": [],
   "source": [
    "# Running a Monte Carlo simulation to forecast 10 years cumulative returns\n",
    "# YOUR CODE HERE!"
   ]
  },
  {
   "cell_type": "code",
   "execution_count": null,
   "metadata": {},
   "outputs": [],
   "source": [
    "# Plot simulation outcomes\n",
    "# YOUR CODE HERE!"
   ]
  },
  {
   "cell_type": "code",
   "execution_count": null,
   "metadata": {},
   "outputs": [],
   "source": [
    "# Plot probability distribution and confidence intervals\n",
    "# YOUR CODE HERE!"
   ]
  },
  {
   "cell_type": "code",
   "execution_count": null,
   "metadata": {},
   "outputs": [],
   "source": [
    "# Fetch summary statistics from the Monte Carlo simulation results\n",
    "# YOUR CODE HERE!\n",
    "\n",
    "# Print summary statistics\n",
    "# YOUR CODE HERE!"
   ]
  },
  {
   "cell_type": "code",
   "execution_count": null,
   "metadata": {},
   "outputs": [],
   "source": [
    "# Set initial investment\n",
    "# YOUR CODE HERE!\n",
    "\n",
    "# Use the lower and upper `95%` confidence intervals to calculate the range of the possible outcomes of our $60,000\n",
    "# YOUR CODE HERE!\n",
    "\n",
    "# Print results\n",
    "print(f\"There is a 95% chance that an initial investment of ${initial_investment} in the portfolio\"\n",
    "      f\" over the next 10 years will end within in the range of\"\n",
    "      f\" ${ci_lower_ten} and ${ci_upper_ten}\")"
   ]
  },
  {
   "cell_type": "code",
   "execution_count": null,
   "metadata": {},
   "outputs": [],
   "source": []
  }
 ],
 "metadata": {
  "kernelspec": {
   "display_name": "Python 3 (ipykernel)",
   "language": "python",
   "name": "python3"
  },
  "language_info": {
   "codemirror_mode": {
    "name": "ipython",
    "version": 3
   },
   "file_extension": ".py",
   "mimetype": "text/x-python",
   "name": "python",
   "nbconvert_exporter": "python",
   "pygments_lexer": "ipython3",
   "version": "3.7.13"
  },
  "nteract": {
   "version": "0.28.0"
  }
 },
 "nbformat": 4,
 "nbformat_minor": 4
}
